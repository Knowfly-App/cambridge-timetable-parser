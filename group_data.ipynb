{
 "cells": [
  {
   "cell_type": "code",
   "execution_count": 4,
   "metadata": {},
   "outputs": [],
   "source": [
    "import json\n",
    "\n",
    "data = json.load(open('timetable.json'))"
   ]
  },
  {
   "cell_type": "code",
   "execution_count": 5,
   "metadata": {},
   "outputs": [],
   "source": [
    "# group the data by the first 4 characters of the code\n",
    "import pandas as pd\n",
    "df = pd.DataFrame(data)\n",
    "\n",
    "grouped_data = df.groupby(df['code'].str[:4])\n",
    "\n",
    "# make a list of the grouped data\n",
    "grouped_data_list = [grouped_data.get_group(x) for x in grouped_data.groups]\n",
    "\n",
    "'''\n",
    "[\n",
    "  {\n",
    "    code: \"1234\",\n",
    "    commonSubstring: \"Accounting\",\n",
    "    group: [\n",
    "      {\n",
    "        \"type\": \"Cambridge IGCSE\",\n",
    "        \"subject\": \"Accounting \",\n",
    "        \"code\": \"1234/12\",\n",
    "        \"duration\": \"1h 45m\",\n",
    "        \"date\": \"Friday 19 May 2023 AM\"\n",
    "      },\n",
    "      {\n",
    "        \"type\": \"Cambridge IGCSE\",\n",
    "        \"subject\": \"Accounting \",\n",
    "        \"code\": \"1234/22\",\n",
    "        \"duration\": \"1h 45m\",\n",
    "        \"date\": \"Friday 19 May 2023 AM\"\n",
    "      },\n",
    "      .\n",
    "      .\n",
    "      .\n",
    "    ]\n",
    "  },\n",
    "  .\n",
    "  .\n",
    "  .\n",
    "]\n",
    "'''\n",
    "# the output data should be of the above format\n",
    "\n",
    "grouped_data = []\n",
    "\n",
    "for group in grouped_data_list:\n",
    "    # get the common substring of the subjects\n",
    "    # get a list of the subjects in the group\n",
    "    subjects = group['subject'].tolist()\n",
    "\n",
    "    # get the common substring of the subjects\n",
    "    commonSubstring = ''\n",
    "    \n",
    "    # get the shortest subject\n",
    "    shortestSubject = min(subjects, key=len)\n",
    "\n",
    "    # iterate through the characters of the shortest subject\n",
    "    for i in range(len(shortestSubject)):\n",
    "        # get the current character\n",
    "        currentChar = shortestSubject[i]\n",
    "        # check if the current character is the same in all the subjects\n",
    "        if all([subject[i] == currentChar for subject in subjects]) and (currentChar.isalpha() or currentChar == ' '):\n",
    "            # add the current character to the common substring\n",
    "            commonSubstring += currentChar\n",
    "        else:\n",
    "            # break the loop if the current character is not the same in all the subjects\n",
    "            break\n",
    "\n",
    "    # convert the group to a dictionary\n",
    "    group = group.sort_values(by=['code']).to_dict('records')\n",
    "    # add the group to the output data\n",
    "    grouped_data.append({\n",
    "        'code': group[0]['code'][:4],\n",
    "        'commonSubstring': commonSubstring.strip(),\n",
    "        'group': group\n",
    "    })\n",
    "    \n",
    "# save the output data to a json file\n",
    "json.dump(grouped_data, open('grouped_data.json', 'w'), indent=2)"
   ]
  }
 ],
 "metadata": {
  "kernelspec": {
   "display_name": "Python 3",
   "language": "python",
   "name": "python3"
  },
  "language_info": {
   "codemirror_mode": {
    "name": "ipython",
    "version": 3
   },
   "file_extension": ".py",
   "mimetype": "text/x-python",
   "name": "python",
   "nbconvert_exporter": "python",
   "pygments_lexer": "ipython3",
   "version": "3.10.6"
  },
  "orig_nbformat": 4,
  "vscode": {
   "interpreter": {
    "hash": "916dbcbb3f70747c44a77c7bcd40155683ae19c65e1c03b4aa3499c5328201f1"
   }
  }
 },
 "nbformat": 4,
 "nbformat_minor": 2
}
